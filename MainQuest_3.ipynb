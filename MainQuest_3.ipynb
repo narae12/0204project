{
  "nbformat": 4,
  "nbformat_minor": 0,
  "metadata": {
    "colab": {
      "provenance": []
    },
    "kernelspec": {
      "name": "python3",
      "display_name": "Python 3"
    },
    "language_info": {
      "name": "python"
    }
  },
  "cells": [
    {
      "cell_type": "markdown",
      "source": [
        "간단한 자동사냥 RPG 게임을 만들어봅시다!\n",
        "사용자의 이름을 입력 받아 플레이어를 생성하고,\n",
        "몬스터들을 차례로 자동사냥하는 게임을 만들어보고자 합니다."
      ],
      "metadata": {
        "id": "YnjuwFwIggbp"
      }
    },
    {
      "cell_type": "markdown",
      "source": [
        "- **Character 클래스**\n",
        "    - 이름, 레벨, 체력, 공격력, 방어력의 속성을 가지고 있습니다.\n",
        "    - 인스턴스의 현재 체력이 0 이상인지를 불리언 값으로 반환하는 `is_alive` 메서드 만들기\n",
        "    - 공격을 받았을 때, (받은 데미지 - 본인의 방어력)만큼 현재 체력이 감소하는 `take_damage` 메서드 만들기\n",
        "        - 본인의 방어력이 데미지보다 크다면 체력 감소하지 않음\n",
        "    - 타겟에게 데미지를 입히는 `attack_target` 메서드 만들기\n",
        "        - 데미지는 1부터 공격력 사이의 랜덤한 정수"
      ],
      "metadata": {
        "id": "az2igjJGgoaS"
      }
    },
    {
      "cell_type": "code",
      "source": [
        "class Character:\n",
        "    def __init__(self, name, level, hp, attack, defense):\n",
        "        self.name = name  #이름\n",
        "        self.level = level  #레벨\n",
        "        self.hp = hp  #체력\n",
        "        self.attack = attack  #공격력\n",
        "        self.defense = defense  #방어력\n",
        "\n",
        "    def is_alive(self):\n",
        "        return self.hp > 0\n",
        "\n",
        "    def take_damage(self, damage):\n",
        "        actual_damage = 0\n",
        "        if damage >self.defense:\n",
        "            actual_damage = damage - self.defense\n",
        "\n",
        "        self.hp -= actual_damage\n",
        "        return actual_damage\n",
        "\n",
        "    def attack_target(self, target):\n",
        "        damage = random.randint(1, self.attack)\n",
        "        actual_damage = target.take_damage(damage)\n",
        "        return actual_damage"
      ],
      "metadata": {
        "id": "j93hnpHvgl-l"
      },
      "execution_count": 122,
      "outputs": []
    },
    {
      "cell_type": "markdown",
      "source": [
        "- **Player 클래스**\n",
        "    - Player 클래스는 Character 클래스를 상속 받습니다.\n",
        "    - 인스턴스 생성 시 레벨 1, 체력 100, 공격력 25, 방어력 5로 초기화합니다.\n",
        "    - Player 클래스는 경험치 속성을 추가로 가지고 있습니다.\n",
        "    - 인수로 받은 정수 만큼 경험치를 획득하는 `gain_experience` 메서드 만들기\n",
        "    - 현재 경험치가 50이상이면 레벨을 1, 공격력을 10, 방어력을 5씩 올리는 `level_up` 메서드 만들기"
      ],
      "metadata": {
        "id": "cwOug7O6gspe"
      }
    },
    {
      "cell_type": "code",
      "source": [
        "class Player(Character):  # Character 클래스를 상속받아 Player 클래스 정의\n",
        "    def __init__(self, name):\n",
        "        # 부모 클래스 (Character)의 생성자 호출, 레벨 1, 체력 100, 공격력 25, 방어력 5로 초기화\n",
        "        super().__init__(name, level=1, hp=100, attack=25, defense=5)\n",
        "        self.experience = 0  # 경험치 속성 추가\n",
        "\n",
        "    def gain_experience(self, exp):\n",
        "        self.experience += exp  # 경험치 획득\n",
        "\n",
        "    def level_up(self):\n",
        "        if self.experience >= 50:  # 경험치가 50 이상일 동안 반복\n",
        "            self.level += 1\n",
        "            self.attack += 10\n",
        "            self.defense += 5\n",
        "            self.experience -= 50  # 레벨업에 사용된 경험치 차감"
      ],
      "metadata": {
        "id": "Hn0yiE1hgsP5"
      },
      "execution_count": 123,
      "outputs": []
    },
    {
      "cell_type": "markdown",
      "source": [
        "- **Monster 클래스**\n",
        "    - Monster 클래스는 Character 클래스를 상속 받습니다.\n",
        "    - 몬스터 생성 시 레벨에 비례하는 체력, 공격력, 방어력을 초기화합니다.\n",
        "        - 체력: 10~30 사이의 랜덤한 정수 * 레벨\n",
        "        - 공격력: 5~20 사이의 랜덤한 정수 * 레벨\n",
        "        - 방어력: 1~5 사이의 랜덤한 정수 * 레벨"
      ],
      "metadata": {
        "id": "KVQNobXRgvqx"
      }
    },
    {
      "cell_type": "code",
      "source": [
        "class Monster(Character):\n",
        "    def __init__(self, name, level):\n",
        "        self.name = name  # 몬스터의 이름을 저장하기 위해 이 줄을 추가합니다.\n",
        "        self.level = level  # 레벨을 저장하기 위해 이 줄을 추가합니다.\n",
        "        self.hp = random.randint(10, 30) * level\n",
        "        self.attack = random.randint(5, 20) * level\n",
        "        self.defense = random.randint(1, 5) * level"
      ],
      "metadata": {
        "id": "7DjfqQXXg0HH"
      },
      "execution_count": 124,
      "outputs": []
    },
    {
      "cell_type": "markdown",
      "source": [
        "- **Battle 함수**\n",
        "    - Player 인스턴스와 Monster 인스턴스를 인수로 받아 둘 중 하나의 체력이 0 이하가 될 때까지 공격을 주고 받는 함수\n",
        "    - 만약 Player 인스턴스가 살아남았다면\n",
        "        - Player 인스턴스에 (몬스터 레벨 * 20)만큼의 경험치를 추가\n",
        "        - 경험치가 50 이상이 되었다면 Player의 레벨업 메서드 호출\n",
        "        - ‘전투 승리!’를 출력\n",
        "    - Player 인스턴스가 살아남지 못했을 경우\n",
        "        - ‘전투 패배..’를 출력하기"
      ],
      "metadata": {
        "id": "UTxTJ2gzg0q6"
      }
    },
    {
      "cell_type": "code",
      "source": [
        "class Battle:\n",
        "    def __init__(self, player, monster):\n",
        "        self.player = player\n",
        "        self.monster = monster\n",
        "\n",
        "        while self.player.is_alive() and self.monster.is_alive():\n",
        "            # 플레이어 공격\n",
        "            player_damage = self.player.attack_target(self.monster)  # 데미지 값 받아오기\n",
        "            print(f\"{self.player.name}이(가) {self.monster.name}에게 {player_damage}의 데미지를 입혔습니다! {self.monster.name}의 HP: {self.monster.hp}\") # 남은 HP 출력\n",
        "            if self.monster.is_alive():\n",
        "                # 몬스터 공격\n",
        "                monster_damage = self.monster.attack_target(self.player)\n",
        "                print(f\"{self.monster.name}이(가) {self.player.name}에게 {monster_damage}의 데미지를 입혔습니다! {self.player.name}의 HP: {self.player.hp}\")\n",
        "                print('')\n",
        "\n",
        "        if self.player.is_alive():\n",
        "            self.player.gain_experience(monster.level * 20)\n",
        "            print('\\n전투 승리!')\n",
        "            print(f'{player.experience}경험치 획득')\n",
        "            if self.player.experience >= 50:\n",
        "                self.player.level_up()\n",
        "                print(f'레벨업! 남은 경험치 :{player.experience}')\n",
        "            print('-'* 100)\n",
        "        else:\n",
        "            print('전투 패배..')\n"
      ],
      "metadata": {
        "id": "s59EL-S1g3YQ"
      },
      "execution_count": 125,
      "outputs": []
    },
    {
      "cell_type": "markdown",
      "source": [
        "- **Main 함수**\n",
        "    - 몬스터의 이름, 레벨이 매핑된 딕셔너리 정의하기\n",
        "        - monster_dict = {‘슬라임’: 1, ‘고블린’: 2, ‘오크’: 3}\n",
        "    - 사용자로부터 이름을 입력받아 Player 인스턴스 생성하기\n",
        "    - 몬스터 딕셔너리로부터 Monster 인스턴스 생성하기\n",
        "    - 생성된 Monster 인스턴스와 Player 인스턴스가 battle 함수를 통해 전투\n",
        "        - Player는 생성된 몬스터 3마리(슬라임, 고블린, 오크)와 모두 전투해야함\n",
        "    - 전투 도중에 Player가 사망하면 이후 전투를 진행하지 않고 ‘게임오버’ 출력하고 종료"
      ],
      "metadata": {
        "id": "lqfcoashg3u6"
      }
    },
    {
      "cell_type": "code",
      "source": [
        "import random\n",
        "\n",
        "\n",
        "def main():\n",
        "    monster_dict = {'슬라임': 1, '고블린': 2, '오크': 3}\n",
        "    player_name = input(\"플레이어 이름을 입력하세요: \")\n",
        "    player = Player(player_name)\n",
        "\n",
        "    for monster_name, monster_level in monster_dict.items():\n",
        "        monster = Monster(monster_name, monster_level)\n",
        "        print(f\"\\n{monster_name} 등장!\")\n",
        "        print(f'''{player.name} 상태:\n",
        "        hp : {player.hp}\n",
        "        공격력: {player.attack}\n",
        "        방어력: {player.defense}''')\n",
        "        print(f'''{monster_name} 상태:\n",
        "        hp : {monster.hp}\n",
        "        공격력: {monster.attack}\n",
        "        방어력: {monster.defense}''')\n",
        "        battle = Battle(player, monster)\n",
        "        if not player.is_alive():\n",
        "            print(\"게임오버\")\n",
        "            break\n",
        "\n",
        "if __name__ == \"__main__\":\n",
        "    main()\n"
      ],
      "metadata": {
        "colab": {
          "base_uri": "https://localhost:8080/"
        },
        "id": "uggRW-vAg6MD",
        "outputId": "89911951-48a9-438e-f0aa-dde066e472e1"
      },
      "execution_count": 126,
      "outputs": [
        {
          "output_type": "stream",
          "name": "stdout",
          "text": [
            "플레이어 이름을 입력하세요: 나래\n",
            "\n",
            "슬라임 등장!\n",
            "나래 상태:\n",
            "        hp : 100\n",
            "        공격력: 25\n",
            "        방어력: 5\n",
            "슬라임 상태:\n",
            "        hp : 13\n",
            "        공격력: 12\n",
            "        방어력: 2\n",
            "나래이(가) 슬라임에게 2의 데미지를 입혔습니다! 슬라임의 HP: 11\n",
            "슬라임이(가) 나래에게 0의 데미지를 입혔습니다! 나래의 HP: 100\n",
            "\n",
            "나래이(가) 슬라임에게 13의 데미지를 입혔습니다! 슬라임의 HP: -2\n",
            "\n",
            "전투 승리!\n",
            "20경험치 획득\n",
            "----------------------------------------------------------------------------------------------------\n",
            "\n",
            "고블린 등장!\n",
            "나래 상태:\n",
            "        hp : 100\n",
            "        공격력: 25\n",
            "        방어력: 5\n",
            "고블린 상태:\n",
            "        hp : 50\n",
            "        공격력: 36\n",
            "        방어력: 8\n",
            "나래이(가) 고블린에게 0의 데미지를 입혔습니다! 고블린의 HP: 50\n",
            "고블린이(가) 나래에게 27의 데미지를 입혔습니다! 나래의 HP: 73\n",
            "\n",
            "나래이(가) 고블린에게 13의 데미지를 입혔습니다! 고블린의 HP: 37\n",
            "고블린이(가) 나래에게 0의 데미지를 입혔습니다! 나래의 HP: 73\n",
            "\n",
            "나래이(가) 고블린에게 9의 데미지를 입혔습니다! 고블린의 HP: 28\n",
            "고블린이(가) 나래에게 30의 데미지를 입혔습니다! 나래의 HP: 43\n",
            "\n",
            "나래이(가) 고블린에게 9의 데미지를 입혔습니다! 고블린의 HP: 19\n",
            "고블린이(가) 나래에게 27의 데미지를 입혔습니다! 나래의 HP: 16\n",
            "\n",
            "나래이(가) 고블린에게 4의 데미지를 입혔습니다! 고블린의 HP: 15\n",
            "고블린이(가) 나래에게 6의 데미지를 입혔습니다! 나래의 HP: 10\n",
            "\n",
            "나래이(가) 고블린에게 13의 데미지를 입혔습니다! 고블린의 HP: 2\n",
            "고블린이(가) 나래에게 23의 데미지를 입혔습니다! 나래의 HP: -13\n",
            "\n",
            "전투 패배..\n",
            "게임오버\n"
          ]
        }
      ]
    },
    {
      "cell_type": "markdown",
      "source": [
        "회고\n",
        "\n",
        "1. 파이썬을 전체적으로 복습할 수 있어서 좋았다\n",
        "2. 만들고 싶은대로 뚝딱 만들어 지지 않아서 아쉬웠다.\n",
        "3.데미지에서 방어력을 빼고 계산을 하고 싶은데 그게 안되서 슬프다."
      ],
      "metadata": {
        "id": "cPQYVkjjRUre"
      }
    }
  ]
}